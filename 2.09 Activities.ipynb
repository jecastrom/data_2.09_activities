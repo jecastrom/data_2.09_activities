{
 "cells": [
  {
   "cell_type": "markdown",
   "id": "70a5fd59",
   "metadata": {},
   "source": [
    "Jorge Castro DAPT NOV2021"
   ]
  },
  {
   "cell_type": "markdown",
   "id": "9f68fa58",
   "metadata": {},
   "source": [
    "# Activity 2.09\n",
    "In this activity, we will be using the table district from the bank database and according to the description for the different columns:\n",
    "\n",
    "## Create the connection between SQL and Python and extract all the information from the loan table where the status is either A or B."
   ]
  },
  {
   "cell_type": "code",
   "execution_count": 99,
   "id": "5ce28e91",
   "metadata": {},
   "outputs": [],
   "source": [
    "from sqlalchemy import create_engine\n",
    "import pandas as pd\n",
    "import getpass\n"
   ]
  },
  {
   "cell_type": "markdown",
   "id": "88924b39",
   "metadata": {},
   "source": [
    "\n",
    "First I prepare my connection elements"
   ]
  },
  {
   "cell_type": "code",
   "execution_count": 100,
   "id": "d8dc93bb",
   "metadata": {},
   "outputs": [
    {
     "name": "stdout",
     "output_type": "stream",
     "text": [
      "········\n"
     ]
    }
   ],
   "source": [
    "DATABASE_LOCATION = 'mysql+pymysql://root:' + password + '@localhost/bank'\n",
    "password = getpass.getpass()\n",
    "query1 = \"\"\"\n",
    "SELECT * \n",
    "FROM loan a\n",
    "WHERE a.status in ('A','B');\n",
    "\"\"\""
   ]
  },
  {
   "cell_type": "code",
   "execution_count": 101,
   "id": "a351ede5",
   "metadata": {},
   "outputs": [],
   "source": [
    "query2 =\"\"\"\n",
    "SELECT\n",
    "  b.loan_id,\n",
    "  c.a1 AS district_id,\n",
    "  c.a11 AS average_salary,\n",
    "  c.a13 AS district_jobless_rate,\n",
    "  c.a16 AS distr_crimes_per_year \n",
    "FROM\n",
    "  account a \n",
    "  INNER JOIN\n",
    "    loan b \n",
    "    ON a.account_id = b.account_id \n",
    "  INNER JOIN\n",
    "    district c \n",
    "    ON a.district_id = c.a1;\n",
    "\"\"\""
   ]
  },
  {
   "cell_type": "code",
   "execution_count": 102,
   "id": "3414f1c7",
   "metadata": {},
   "outputs": [],
   "source": [
    "query3 = \"\"\"\n",
    "SELECT district_id,\n",
    "       loan_id,\n",
    "       district.a2 AS district_name,\n",
    "       sum(loan.amount) AS total_amount_borrowed,\n",
    "       floor(avg(loan.amount)) AS average_loan,\n",
    "       (case\n",
    "            when status = 'A' then\n",
    "                count(status)\n",
    "            else\n",
    "                0\n",
    "        end\n",
    "       ) as loans_status_A,\n",
    "       (case\n",
    "            when status = 'B' then\n",
    "                count(status)\n",
    "            else\n",
    "                0\n",
    "        end\n",
    "       ) as loans_status_B\n",
    "FROM loan\n",
    "    INNER JOIN account\n",
    "        ON loan.account_id = account.account_id\n",
    "    INNER JOIN district\n",
    "        ON account.district_id = district.a1\n",
    "GROUP BY 1\n",
    "ORDER BY 3 DESC;\n",
    "\n",
    "\"\"\""
   ]
  },
  {
   "cell_type": "markdown",
   "id": "3159a1b7",
   "metadata": {},
   "source": [
    "Creating engine and connecting to the MySQL database"
   ]
  },
  {
   "cell_type": "code",
   "execution_count": 103,
   "id": "40997ce0",
   "metadata": {},
   "outputs": [
    {
     "data": {
      "text/html": [
       "<div>\n",
       "<style scoped>\n",
       "    .dataframe tbody tr th:only-of-type {\n",
       "        vertical-align: middle;\n",
       "    }\n",
       "\n",
       "    .dataframe tbody tr th {\n",
       "        vertical-align: top;\n",
       "    }\n",
       "\n",
       "    .dataframe thead th {\n",
       "        text-align: right;\n",
       "    }\n",
       "</style>\n",
       "<table border=\"1\" class=\"dataframe\">\n",
       "  <thead>\n",
       "    <tr style=\"text-align: right;\">\n",
       "      <th></th>\n",
       "      <th>loan_id</th>\n",
       "      <th>account_id</th>\n",
       "      <th>date</th>\n",
       "      <th>amount</th>\n",
       "      <th>duration</th>\n",
       "      <th>payments</th>\n",
       "      <th>status</th>\n",
       "    </tr>\n",
       "  </thead>\n",
       "  <tbody>\n",
       "    <tr>\n",
       "      <th>0</th>\n",
       "      <td>5314</td>\n",
       "      <td>1787</td>\n",
       "      <td>930705</td>\n",
       "      <td>96396</td>\n",
       "      <td>12</td>\n",
       "      <td>8033.0</td>\n",
       "      <td>B</td>\n",
       "    </tr>\n",
       "    <tr>\n",
       "      <th>1</th>\n",
       "      <td>5316</td>\n",
       "      <td>1801</td>\n",
       "      <td>930711</td>\n",
       "      <td>165960</td>\n",
       "      <td>36</td>\n",
       "      <td>4610.0</td>\n",
       "      <td>A</td>\n",
       "    </tr>\n",
       "    <tr>\n",
       "      <th>2</th>\n",
       "      <td>6863</td>\n",
       "      <td>9188</td>\n",
       "      <td>930728</td>\n",
       "      <td>127080</td>\n",
       "      <td>60</td>\n",
       "      <td>2118.0</td>\n",
       "      <td>A</td>\n",
       "    </tr>\n",
       "    <tr>\n",
       "      <th>3</th>\n",
       "      <td>5325</td>\n",
       "      <td>1843</td>\n",
       "      <td>930803</td>\n",
       "      <td>105804</td>\n",
       "      <td>36</td>\n",
       "      <td>2939.0</td>\n",
       "      <td>A</td>\n",
       "    </tr>\n",
       "    <tr>\n",
       "      <th>4</th>\n",
       "      <td>7240</td>\n",
       "      <td>11013</td>\n",
       "      <td>930906</td>\n",
       "      <td>274740</td>\n",
       "      <td>60</td>\n",
       "      <td>4579.0</td>\n",
       "      <td>A</td>\n",
       "    </tr>\n",
       "  </tbody>\n",
       "</table>\n",
       "</div>"
      ],
      "text/plain": [
       "   loan_id  account_id    date  amount  duration  payments status\n",
       "0     5314        1787  930705   96396        12    8033.0      B\n",
       "1     5316        1801  930711  165960        36    4610.0      A\n",
       "2     6863        9188  930728  127080        60    2118.0      A\n",
       "3     5325        1843  930803  105804        36    2939.0      A\n",
       "4     7240       11013  930906  274740        60    4579.0      A"
      ]
     },
     "execution_count": 103,
     "metadata": {},
     "output_type": "execute_result"
    }
   ],
   "source": [
    "engine = create_engine(DATABASE_LOCATION)\n",
    "mydata = pd.read_sql_query(query1, engine)\n",
    "mydata.head()"
   ]
  },
  {
   "cell_type": "markdown",
   "id": "1bc17030",
   "metadata": {},
   "source": [
    "## Use the executable class to run the query/queries. You can test the query/queries in SequelPro or Workbench and then use them with Python."
   ]
  },
  {
   "cell_type": "code",
   "execution_count": 104,
   "id": "0e817b1d",
   "metadata": {},
   "outputs": [],
   "source": [
    "result = engine.execute(query1)"
   ]
  },
  {
   "cell_type": "code",
   "execution_count": 105,
   "id": "23b47827",
   "metadata": {},
   "outputs": [
    {
     "data": {
      "text/html": [
       "<div>\n",
       "<style scoped>\n",
       "    .dataframe tbody tr th:only-of-type {\n",
       "        vertical-align: middle;\n",
       "    }\n",
       "\n",
       "    .dataframe tbody tr th {\n",
       "        vertical-align: top;\n",
       "    }\n",
       "\n",
       "    .dataframe thead th {\n",
       "        text-align: right;\n",
       "    }\n",
       "</style>\n",
       "<table border=\"1\" class=\"dataframe\">\n",
       "  <thead>\n",
       "    <tr style=\"text-align: right;\">\n",
       "      <th></th>\n",
       "      <th>0</th>\n",
       "      <th>1</th>\n",
       "      <th>2</th>\n",
       "      <th>3</th>\n",
       "      <th>4</th>\n",
       "      <th>5</th>\n",
       "      <th>6</th>\n",
       "    </tr>\n",
       "  </thead>\n",
       "  <tbody>\n",
       "    <tr>\n",
       "      <th>0</th>\n",
       "      <td>5314</td>\n",
       "      <td>1787</td>\n",
       "      <td>930705</td>\n",
       "      <td>96396</td>\n",
       "      <td>12</td>\n",
       "      <td>8033.0</td>\n",
       "      <td>B</td>\n",
       "    </tr>\n",
       "    <tr>\n",
       "      <th>1</th>\n",
       "      <td>5316</td>\n",
       "      <td>1801</td>\n",
       "      <td>930711</td>\n",
       "      <td>165960</td>\n",
       "      <td>36</td>\n",
       "      <td>4610.0</td>\n",
       "      <td>A</td>\n",
       "    </tr>\n",
       "    <tr>\n",
       "      <th>2</th>\n",
       "      <td>6863</td>\n",
       "      <td>9188</td>\n",
       "      <td>930728</td>\n",
       "      <td>127080</td>\n",
       "      <td>60</td>\n",
       "      <td>2118.0</td>\n",
       "      <td>A</td>\n",
       "    </tr>\n",
       "    <tr>\n",
       "      <th>3</th>\n",
       "      <td>5325</td>\n",
       "      <td>1843</td>\n",
       "      <td>930803</td>\n",
       "      <td>105804</td>\n",
       "      <td>36</td>\n",
       "      <td>2939.0</td>\n",
       "      <td>A</td>\n",
       "    </tr>\n",
       "    <tr>\n",
       "      <th>4</th>\n",
       "      <td>7240</td>\n",
       "      <td>11013</td>\n",
       "      <td>930906</td>\n",
       "      <td>274740</td>\n",
       "      <td>60</td>\n",
       "      <td>4579.0</td>\n",
       "      <td>A</td>\n",
       "    </tr>\n",
       "    <tr>\n",
       "      <th>...</th>\n",
       "      <td>...</td>\n",
       "      <td>...</td>\n",
       "      <td>...</td>\n",
       "      <td>...</td>\n",
       "      <td>...</td>\n",
       "      <td>...</td>\n",
       "      <td>...</td>\n",
       "    </tr>\n",
       "    <tr>\n",
       "      <th>229</th>\n",
       "      <td>5651</td>\n",
       "      <td>3329</td>\n",
       "      <td>971208</td>\n",
       "      <td>19248</td>\n",
       "      <td>12</td>\n",
       "      <td>1604.0</td>\n",
       "      <td>A</td>\n",
       "    </tr>\n",
       "    <tr>\n",
       "      <th>230</th>\n",
       "      <td>4962</td>\n",
       "      <td>25</td>\n",
       "      <td>971208</td>\n",
       "      <td>30276</td>\n",
       "      <td>12</td>\n",
       "      <td>2523.0</td>\n",
       "      <td>A</td>\n",
       "    </tr>\n",
       "    <tr>\n",
       "      <th>231</th>\n",
       "      <td>7199</td>\n",
       "      <td>10789</td>\n",
       "      <td>971209</td>\n",
       "      <td>45768</td>\n",
       "      <td>12</td>\n",
       "      <td>3814.0</td>\n",
       "      <td>A</td>\n",
       "    </tr>\n",
       "    <tr>\n",
       "      <th>232</th>\n",
       "      <td>6727</td>\n",
       "      <td>8505</td>\n",
       "      <td>971210</td>\n",
       "      <td>42840</td>\n",
       "      <td>12</td>\n",
       "      <td>3570.0</td>\n",
       "      <td>A</td>\n",
       "    </tr>\n",
       "    <tr>\n",
       "      <th>233</th>\n",
       "      <td>6059</td>\n",
       "      <td>5196</td>\n",
       "      <td>971228</td>\n",
       "      <td>79824</td>\n",
       "      <td>12</td>\n",
       "      <td>6652.0</td>\n",
       "      <td>A</td>\n",
       "    </tr>\n",
       "  </tbody>\n",
       "</table>\n",
       "<p>234 rows × 7 columns</p>\n",
       "</div>"
      ],
      "text/plain": [
       "        0      1       2       3   4       5  6\n",
       "0    5314   1787  930705   96396  12  8033.0  B\n",
       "1    5316   1801  930711  165960  36  4610.0  A\n",
       "2    6863   9188  930728  127080  60  2118.0  A\n",
       "3    5325   1843  930803  105804  36  2939.0  A\n",
       "4    7240  11013  930906  274740  60  4579.0  A\n",
       "..    ...    ...     ...     ...  ..     ... ..\n",
       "229  5651   3329  971208   19248  12  1604.0  A\n",
       "230  4962     25  971208   30276  12  2523.0  A\n",
       "231  7199  10789  971209   45768  12  3814.0  A\n",
       "232  6727   8505  971210   42840  12  3570.0  A\n",
       "233  6059   5196  971228   79824  12  6652.0  A\n",
       "\n",
       "[234 rows x 7 columns]"
      ]
     },
     "execution_count": 105,
     "metadata": {},
     "output_type": "execute_result"
    }
   ],
   "source": [
    "rows = [list(row) for row in result]\n",
    "pd.DataFrame(rows)"
   ]
  },
  {
   "cell_type": "markdown",
   "id": "1b3ba418",
   "metadata": {},
   "source": [
    "# Activity"
   ]
  },
  {
   "cell_type": "markdown",
   "id": "8c81a3c0",
   "metadata": {},
   "source": [
    "## Pick any two queries from the queries that we have written so far and execute them in Python. The objective is to retrieve the data into a dataframe."
   ]
  },
  {
   "cell_type": "code",
   "execution_count": 106,
   "id": "84878bcc",
   "metadata": {},
   "outputs": [
    {
     "data": {
      "text/html": [
       "<div>\n",
       "<style scoped>\n",
       "    .dataframe tbody tr th:only-of-type {\n",
       "        vertical-align: middle;\n",
       "    }\n",
       "\n",
       "    .dataframe tbody tr th {\n",
       "        vertical-align: top;\n",
       "    }\n",
       "\n",
       "    .dataframe thead th {\n",
       "        text-align: right;\n",
       "    }\n",
       "</style>\n",
       "<table border=\"1\" class=\"dataframe\">\n",
       "  <thead>\n",
       "    <tr style=\"text-align: right;\">\n",
       "      <th></th>\n",
       "      <th>loan_id</th>\n",
       "      <th>district_id</th>\n",
       "      <th>average_salary</th>\n",
       "      <th>district_jobless_rate</th>\n",
       "      <th>distr_crimes_per_year</th>\n",
       "    </tr>\n",
       "  </thead>\n",
       "  <tbody>\n",
       "    <tr>\n",
       "      <th>0</th>\n",
       "      <td>5314</td>\n",
       "      <td>30</td>\n",
       "      <td>9650</td>\n",
       "      <td>3.67</td>\n",
       "      <td>2804</td>\n",
       "    </tr>\n",
       "    <tr>\n",
       "      <th>1</th>\n",
       "      <td>5316</td>\n",
       "      <td>46</td>\n",
       "      <td>8369</td>\n",
       "      <td>2.31</td>\n",
       "      <td>2618</td>\n",
       "    </tr>\n",
       "    <tr>\n",
       "      <th>2</th>\n",
       "      <td>6863</td>\n",
       "      <td>45</td>\n",
       "      <td>8390</td>\n",
       "      <td>2.89</td>\n",
       "      <td>2122</td>\n",
       "    </tr>\n",
       "    <tr>\n",
       "      <th>3</th>\n",
       "      <td>5325</td>\n",
       "      <td>12</td>\n",
       "      <td>8754</td>\n",
       "      <td>4.31</td>\n",
       "      <td>3868</td>\n",
       "    </tr>\n",
       "    <tr>\n",
       "      <th>4</th>\n",
       "      <td>7240</td>\n",
       "      <td>1</td>\n",
       "      <td>12541</td>\n",
       "      <td>0.43</td>\n",
       "      <td>99107</td>\n",
       "    </tr>\n",
       "  </tbody>\n",
       "</table>\n",
       "</div>"
      ],
      "text/plain": [
       "   loan_id  district_id  average_salary  district_jobless_rate  \\\n",
       "0     5314           30            9650                   3.67   \n",
       "1     5316           46            8369                   2.31   \n",
       "2     6863           45            8390                   2.89   \n",
       "3     5325           12            8754                   4.31   \n",
       "4     7240            1           12541                   0.43   \n",
       "\n",
       "   distr_crimes_per_year  \n",
       "0                   2804  \n",
       "1                   2618  \n",
       "2                   2122  \n",
       "3                   3868  \n",
       "4                  99107  "
      ]
     },
     "execution_count": 106,
     "metadata": {},
     "output_type": "execute_result"
    }
   ],
   "source": [
    "mydata2 = pd.read_sql_query(query2, engine)\n",
    "mydata2.head()"
   ]
  },
  {
   "cell_type": "code",
   "execution_count": 107,
   "id": "15cae712",
   "metadata": {},
   "outputs": [
    {
     "data": {
      "text/html": [
       "<div>\n",
       "<style scoped>\n",
       "    .dataframe tbody tr th:only-of-type {\n",
       "        vertical-align: middle;\n",
       "    }\n",
       "\n",
       "    .dataframe tbody tr th {\n",
       "        vertical-align: top;\n",
       "    }\n",
       "\n",
       "    .dataframe thead th {\n",
       "        text-align: right;\n",
       "    }\n",
       "</style>\n",
       "<table border=\"1\" class=\"dataframe\">\n",
       "  <thead>\n",
       "    <tr style=\"text-align: right;\">\n",
       "      <th></th>\n",
       "      <th>district_id</th>\n",
       "      <th>loan_id</th>\n",
       "      <th>district_name</th>\n",
       "      <th>total_amount_borrowed</th>\n",
       "      <th>average_loan</th>\n",
       "      <th>loans_status_A</th>\n",
       "      <th>loans_status_B</th>\n",
       "    </tr>\n",
       "  </thead>\n",
       "  <tbody>\n",
       "    <tr>\n",
       "      <th>0</th>\n",
       "      <td>65</td>\n",
       "      <td>5161</td>\n",
       "      <td>Znojmo</td>\n",
       "      <td>944376.0</td>\n",
       "      <td>157396</td>\n",
       "      <td>6</td>\n",
       "      <td>0</td>\n",
       "    </tr>\n",
       "    <tr>\n",
       "      <th>1</th>\n",
       "      <td>64</td>\n",
       "      <td>6456</td>\n",
       "      <td>Zlin</td>\n",
       "      <td>3012768.0</td>\n",
       "      <td>177221</td>\n",
       "      <td>17</td>\n",
       "      <td>0</td>\n",
       "    </tr>\n",
       "    <tr>\n",
       "      <th>2</th>\n",
       "      <td>66</td>\n",
       "      <td>5002</td>\n",
       "      <td>Zdar nad Sazavou</td>\n",
       "      <td>1326540.0</td>\n",
       "      <td>189505</td>\n",
       "      <td>7</td>\n",
       "      <td>0</td>\n",
       "    </tr>\n",
       "    <tr>\n",
       "      <th>3</th>\n",
       "      <td>63</td>\n",
       "      <td>5523</td>\n",
       "      <td>Vyskov</td>\n",
       "      <td>777192.0</td>\n",
       "      <td>111027</td>\n",
       "      <td>7</td>\n",
       "      <td>0</td>\n",
       "    </tr>\n",
       "    <tr>\n",
       "      <th>4</th>\n",
       "      <td>77</td>\n",
       "      <td>6696</td>\n",
       "      <td>Vsetin</td>\n",
       "      <td>490980.0</td>\n",
       "      <td>81830</td>\n",
       "      <td>0</td>\n",
       "      <td>0</td>\n",
       "    </tr>\n",
       "  </tbody>\n",
       "</table>\n",
       "</div>"
      ],
      "text/plain": [
       "   district_id  loan_id     district_name  total_amount_borrowed  \\\n",
       "0           65     5161            Znojmo               944376.0   \n",
       "1           64     6456              Zlin              3012768.0   \n",
       "2           66     5002  Zdar nad Sazavou              1326540.0   \n",
       "3           63     5523            Vyskov               777192.0   \n",
       "4           77     6696            Vsetin               490980.0   \n",
       "\n",
       "   average_loan  loans_status_A  loans_status_B  \n",
       "0        157396               6               0  \n",
       "1        177221              17               0  \n",
       "2        189505               7               0  \n",
       "3        111027               7               0  \n",
       "4         81830               0               0  "
      ]
     },
     "execution_count": 107,
     "metadata": {},
     "output_type": "execute_result"
    }
   ],
   "source": [
    "mydata3 = pd.read_sql_query(query3, engine)\n",
    "mydata3.head()"
   ]
  },
  {
   "cell_type": "markdown",
   "id": "41fde496",
   "metadata": {},
   "source": [
    "# Activity\n",
    "Analyze transformed data\n",
    "\n",
    " * How many new columns have been created?"
   ]
  },
  {
   "cell_type": "code",
   "execution_count": 108,
   "id": "9b62014e",
   "metadata": {},
   "outputs": [
    {
     "data": {
      "text/html": [
       "<div>\n",
       "<style scoped>\n",
       "    .dataframe tbody tr th:only-of-type {\n",
       "        vertical-align: middle;\n",
       "    }\n",
       "\n",
       "    .dataframe tbody tr th {\n",
       "        vertical-align: top;\n",
       "    }\n",
       "\n",
       "    .dataframe thead th {\n",
       "        text-align: right;\n",
       "    }\n",
       "</style>\n",
       "<table border=\"1\" class=\"dataframe\">\n",
       "  <thead>\n",
       "    <tr style=\"text-align: right;\">\n",
       "      <th></th>\n",
       "      <th>loan_id</th>\n",
       "      <th>account_id</th>\n",
       "      <th>date</th>\n",
       "      <th>amount</th>\n",
       "      <th>duration</th>\n",
       "      <th>payments</th>\n",
       "      <th>status</th>\n",
       "    </tr>\n",
       "  </thead>\n",
       "  <tbody>\n",
       "    <tr>\n",
       "      <th>0</th>\n",
       "      <td>5314</td>\n",
       "      <td>1787</td>\n",
       "      <td>930705</td>\n",
       "      <td>96396</td>\n",
       "      <td>12</td>\n",
       "      <td>8033.0</td>\n",
       "      <td>B</td>\n",
       "    </tr>\n",
       "    <tr>\n",
       "      <th>1</th>\n",
       "      <td>5316</td>\n",
       "      <td>1801</td>\n",
       "      <td>930711</td>\n",
       "      <td>165960</td>\n",
       "      <td>36</td>\n",
       "      <td>4610.0</td>\n",
       "      <td>A</td>\n",
       "    </tr>\n",
       "    <tr>\n",
       "      <th>2</th>\n",
       "      <td>6863</td>\n",
       "      <td>9188</td>\n",
       "      <td>930728</td>\n",
       "      <td>127080</td>\n",
       "      <td>60</td>\n",
       "      <td>2118.0</td>\n",
       "      <td>A</td>\n",
       "    </tr>\n",
       "    <tr>\n",
       "      <th>3</th>\n",
       "      <td>5325</td>\n",
       "      <td>1843</td>\n",
       "      <td>930803</td>\n",
       "      <td>105804</td>\n",
       "      <td>36</td>\n",
       "      <td>2939.0</td>\n",
       "      <td>A</td>\n",
       "    </tr>\n",
       "    <tr>\n",
       "      <th>4</th>\n",
       "      <td>7240</td>\n",
       "      <td>11013</td>\n",
       "      <td>930906</td>\n",
       "      <td>274740</td>\n",
       "      <td>60</td>\n",
       "      <td>4579.0</td>\n",
       "      <td>A</td>\n",
       "    </tr>\n",
       "  </tbody>\n",
       "</table>\n",
       "</div>"
      ],
      "text/plain": [
       "   loan_id  account_id    date  amount  duration  payments status\n",
       "0     5314        1787  930705   96396        12    8033.0      B\n",
       "1     5316        1801  930711  165960        36    4610.0      A\n",
       "2     6863        9188  930728  127080        60    2118.0      A\n",
       "3     5325        1843  930803  105804        36    2939.0      A\n",
       "4     7240       11013  930906  274740        60    4579.0      A"
      ]
     },
     "execution_count": 108,
     "metadata": {},
     "output_type": "execute_result"
    }
   ],
   "source": [
    "mydata.head()"
   ]
  },
  {
   "cell_type": "code",
   "execution_count": 109,
   "id": "e1583653",
   "metadata": {},
   "outputs": [],
   "source": [
    "import matplotlib\n",
    "import matplotlib.pyplot as plt\n",
    "import seaborn as sb\n",
    "import numpy as np\n",
    "sns.set_theme(style=\"whitegrid\")"
   ]
  },
  {
   "cell_type": "code",
   "execution_count": 110,
   "id": "ffa3a696",
   "metadata": {},
   "outputs": [
    {
     "data": {
      "text/plain": [
       "(234, 7)"
      ]
     },
     "execution_count": 110,
     "metadata": {},
     "output_type": "execute_result"
    }
   ],
   "source": [
    "mydata.shape"
   ]
  },
  {
   "cell_type": "code",
   "execution_count": 111,
   "id": "50494aec",
   "metadata": {},
   "outputs": [
    {
     "data": {
      "text/plain": [
       "loan_id         int64\n",
       "account_id      int64\n",
       "date            int64\n",
       "amount          int64\n",
       "duration        int64\n",
       "payments      float64\n",
       "status         object\n",
       "dtype: object"
      ]
     },
     "execution_count": 111,
     "metadata": {},
     "output_type": "execute_result"
    }
   ],
   "source": [
    "mydata.dtypes"
   ]
  },
  {
   "cell_type": "code",
   "execution_count": 112,
   "id": "388f772c",
   "metadata": {},
   "outputs": [],
   "source": [
    "categoricals = pd.DataFrame(mydata.select_dtypes(include='object'))\n",
    "numerical = pd.DataFrame(mydata._get_numeric_data())"
   ]
  },
  {
   "cell_type": "code",
   "execution_count": 113,
   "id": "89e08fba",
   "metadata": {},
   "outputs": [
    {
     "data": {
      "text/html": [
       "<div>\n",
       "<style scoped>\n",
       "    .dataframe tbody tr th:only-of-type {\n",
       "        vertical-align: middle;\n",
       "    }\n",
       "\n",
       "    .dataframe tbody tr th {\n",
       "        vertical-align: top;\n",
       "    }\n",
       "\n",
       "    .dataframe thead th {\n",
       "        text-align: right;\n",
       "    }\n",
       "</style>\n",
       "<table border=\"1\" class=\"dataframe\">\n",
       "  <thead>\n",
       "    <tr style=\"text-align: right;\">\n",
       "      <th></th>\n",
       "      <th>loan_id</th>\n",
       "      <th>account_id</th>\n",
       "      <th>date</th>\n",
       "      <th>amount</th>\n",
       "      <th>duration</th>\n",
       "      <th>payments</th>\n",
       "    </tr>\n",
       "  </thead>\n",
       "  <tbody>\n",
       "    <tr>\n",
       "      <th>count</th>\n",
       "      <td>234.000000</td>\n",
       "      <td>234.000000</td>\n",
       "      <td>234.000000</td>\n",
       "      <td>234.000000</td>\n",
       "      <td>234.000000</td>\n",
       "      <td>234.000000</td>\n",
       "    </tr>\n",
       "    <tr>\n",
       "      <th>mean</th>\n",
       "      <td>6233.803419</td>\n",
       "      <td>6118.017094</td>\n",
       "      <td>950554.256410</td>\n",
       "      <td>98143.435897</td>\n",
       "      <td>22.666667</td>\n",
       "      <td>4414.119658</td>\n",
       "    </tr>\n",
       "    <tr>\n",
       "      <th>std</th>\n",
       "      <td>680.590147</td>\n",
       "      <td>3274.312851</td>\n",
       "      <td>12597.668716</td>\n",
       "      <td>72013.383242</td>\n",
       "      <td>11.847384</td>\n",
       "      <td>2230.195977</td>\n",
       "    </tr>\n",
       "    <tr>\n",
       "      <th>min</th>\n",
       "      <td>4959.000000</td>\n",
       "      <td>2.000000</td>\n",
       "      <td>930705.000000</td>\n",
       "      <td>4980.000000</td>\n",
       "      <td>12.000000</td>\n",
       "      <td>319.000000</td>\n",
       "    </tr>\n",
       "    <tr>\n",
       "      <th>25%</th>\n",
       "      <td>5684.750000</td>\n",
       "      <td>3463.500000</td>\n",
       "      <td>940705.750000</td>\n",
       "      <td>45039.000000</td>\n",
       "      <td>12.000000</td>\n",
       "      <td>2583.750000</td>\n",
       "    </tr>\n",
       "    <tr>\n",
       "      <th>50%</th>\n",
       "      <td>6300.000000</td>\n",
       "      <td>6381.500000</td>\n",
       "      <td>950315.000000</td>\n",
       "      <td>80646.000000</td>\n",
       "      <td>24.000000</td>\n",
       "      <td>4099.500000</td>\n",
       "    </tr>\n",
       "    <tr>\n",
       "      <th>75%</th>\n",
       "      <td>6756.750000</td>\n",
       "      <td>8728.500000</td>\n",
       "      <td>960888.750000</td>\n",
       "      <td>126960.000000</td>\n",
       "      <td>24.000000</td>\n",
       "      <td>6337.500000</td>\n",
       "    </tr>\n",
       "    <tr>\n",
       "      <th>max</th>\n",
       "      <td>7308.000000</td>\n",
       "      <td>11362.000000</td>\n",
       "      <td>971228.000000</td>\n",
       "      <td>464520.000000</td>\n",
       "      <td>60.000000</td>\n",
       "      <td>9736.000000</td>\n",
       "    </tr>\n",
       "  </tbody>\n",
       "</table>\n",
       "</div>"
      ],
      "text/plain": [
       "           loan_id    account_id           date         amount    duration  \\\n",
       "count   234.000000    234.000000     234.000000     234.000000  234.000000   \n",
       "mean   6233.803419   6118.017094  950554.256410   98143.435897   22.666667   \n",
       "std     680.590147   3274.312851   12597.668716   72013.383242   11.847384   \n",
       "min    4959.000000      2.000000  930705.000000    4980.000000   12.000000   \n",
       "25%    5684.750000   3463.500000  940705.750000   45039.000000   12.000000   \n",
       "50%    6300.000000   6381.500000  950315.000000   80646.000000   24.000000   \n",
       "75%    6756.750000   8728.500000  960888.750000  126960.000000   24.000000   \n",
       "max    7308.000000  11362.000000  971228.000000  464520.000000   60.000000   \n",
       "\n",
       "          payments  \n",
       "count   234.000000  \n",
       "mean   4414.119658  \n",
       "std    2230.195977  \n",
       "min     319.000000  \n",
       "25%    2583.750000  \n",
       "50%    4099.500000  \n",
       "75%    6337.500000  \n",
       "max    9736.000000  "
      ]
     },
     "execution_count": 113,
     "metadata": {},
     "output_type": "execute_result"
    }
   ],
   "source": [
    "mydata.describe()"
   ]
  },
  {
   "cell_type": "code",
   "execution_count": 114,
   "id": "3795ccce",
   "metadata": {},
   "outputs": [
    {
     "data": {
      "image/png": "[encoded data removed]",
      "text/plain": [
       "<Figure size 720x576 with 2 Axes>"
      ]
     },
     "metadata": {},
     "output_type": "display_data"
    }
   ],
   "source": [
    "# Numerical column, multicolinearity check\n",
    "\n",
    "corr_matrix=numerical.corr(method='pearson')\n",
    "fig, ax = plt.subplots(figsize=(10, 8))\n",
    "ax = sns.heatmap(corr_matrix, annot=True)\n",
    "plt.show()"
   ]
  },
  {
   "cell_type": "code",
   "execution_count": 115,
   "id": "3a66edb3",
   "metadata": {},
   "outputs": [
    {
     "data": {
      "image/png": "[encoded data removed]",
      "text/plain": [
       "<Figure size 360x360 with 1 Axes>"
      ]
     },
     "metadata": {},
     "output_type": "display_data"
    },
    {
     "data": {
      "image/png": "[encoded data removed]",
      "text/plain": [
       "<Figure size 360x360 with 1 Axes>"
      ]
     },
     "metadata": {},
     "output_type": "display_data"
    },
    {
     "data": {
      "image/png": "[encoded data removed]",
      "text/plain": [
       "<Figure size 360x360 with 1 Axes>"
      ]
     },
     "metadata": {},
     "output_type": "display_data"
    },
    {
     "data": {
      "image/png": "[encoded data removed]",
      "text/plain": [
       "<Figure size 360x360 with 1 Axes>"
      ]
     },
     "metadata": {},
     "output_type": "display_data"
    },
    {
     "data": {
      "image/png": "[encoded data removed]",
      "text/plain": [
       "<Figure size 360x360 with 1 Axes>"
      ]
     },
     "metadata": {},
     "output_type": "display_data"
    },
    {
     "data": {
      "image/png": "[encoded data removed]",
      "text/plain": [
       "<Figure size 360x360 with 1 Axes>"
      ]
     },
     "metadata": {},
     "output_type": "display_data"
    }
   ],
   "source": [
    "# Distributions for numericals\n",
    "\n",
    "for i in numerical.columns:\n",
    "    sb.displot(numerical[i])"
   ]
  },
  {
   "cell_type": "code",
   "execution_count": 116,
   "id": "d6510ba0",
   "metadata": {},
   "outputs": [],
   "source": [
    "# Transforming numerical columns with the Normalizer\n",
    "\n",
    "from sklearn.preprocessing import Normalizer\n",
    "\n",
    "x = mydata.select_dtypes(include = np.number)\n",
    "\n",
    "x1 = x.copy()"
   ]
  },
  {
   "cell_type": "code",
   "execution_count": 117,
   "id": "832681a4",
   "metadata": {},
   "outputs": [],
   "source": [
    "# Normalising the data\n",
    "\n",
    "transformer = Normalizer().fit(x1)\n",
    "x_normalized = transformer.transform(x1)\n",
    "x_normalized = pd.DataFrame(x_normalized)"
   ]
  },
  {
   "cell_type": "code",
   "execution_count": 118,
   "id": "9d4b5e1e",
   "metadata": {},
   "outputs": [
    {
     "data": {
      "text/html": [
       "<div>\n",
       "<style scoped>\n",
       "    .dataframe tbody tr th:only-of-type {\n",
       "        vertical-align: middle;\n",
       "    }\n",
       "\n",
       "    .dataframe tbody tr th {\n",
       "        vertical-align: top;\n",
       "    }\n",
       "\n",
       "    .dataframe thead th {\n",
       "        text-align: right;\n",
       "    }\n",
       "</style>\n",
       "<table border=\"1\" class=\"dataframe\">\n",
       "  <thead>\n",
       "    <tr style=\"text-align: right;\">\n",
       "      <th></th>\n",
       "      <th>0</th>\n",
       "      <th>1</th>\n",
       "      <th>2</th>\n",
       "      <th>3</th>\n",
       "      <th>4</th>\n",
       "      <th>5</th>\n",
       "    </tr>\n",
       "  </thead>\n",
       "  <tbody>\n",
       "    <tr>\n",
       "      <th>0</th>\n",
       "      <td>0.005679</td>\n",
       "      <td>0.001910</td>\n",
       "      <td>0.994625</td>\n",
       "      <td>0.103016</td>\n",
       "      <td>0.000013</td>\n",
       "      <td>0.008585</td>\n",
       "    </tr>\n",
       "    <tr>\n",
       "      <th>1</th>\n",
       "      <td>0.005623</td>\n",
       "      <td>0.001905</td>\n",
       "      <td>0.984442</td>\n",
       "      <td>0.175541</td>\n",
       "      <td>0.000038</td>\n",
       "      <td>0.004876</td>\n",
       "    </tr>\n",
       "    <tr>\n",
       "      <th>2</th>\n",
       "      <td>0.007305</td>\n",
       "      <td>0.009780</td>\n",
       "      <td>0.990731</td>\n",
       "      <td>0.135273</td>\n",
       "      <td>0.000064</td>\n",
       "      <td>0.002255</td>\n",
       "    </tr>\n",
       "    <tr>\n",
       "      <th>3</th>\n",
       "      <td>0.005684</td>\n",
       "      <td>0.001967</td>\n",
       "      <td>0.993579</td>\n",
       "      <td>0.112940</td>\n",
       "      <td>0.000038</td>\n",
       "      <td>0.003137</td>\n",
       "    </tr>\n",
       "    <tr>\n",
       "      <th>4</th>\n",
       "      <td>0.007459</td>\n",
       "      <td>0.011345</td>\n",
       "      <td>0.959003</td>\n",
       "      <td>0.283032</td>\n",
       "      <td>0.000062</td>\n",
       "      <td>0.004717</td>\n",
       "    </tr>\n",
       "  </tbody>\n",
       "</table>\n",
       "</div>"
      ],
      "text/plain": [
       "          0         1         2         3         4         5\n",
       "0  0.005679  0.001910  0.994625  0.103016  0.000013  0.008585\n",
       "1  0.005623  0.001905  0.984442  0.175541  0.000038  0.004876\n",
       "2  0.007305  0.009780  0.990731  0.135273  0.000064  0.002255\n",
       "3  0.005684  0.001967  0.993579  0.112940  0.000038  0.003137\n",
       "4  0.007459  0.011345  0.959003  0.283032  0.000062  0.004717"
      ]
     },
     "execution_count": 118,
     "metadata": {},
     "output_type": "execute_result"
    }
   ],
   "source": [
    "x_normalized.head()"
   ]
  },
  {
   "cell_type": "code",
   "execution_count": 119,
   "id": "7c2738cc",
   "metadata": {},
   "outputs": [
    {
     "data": {
      "image/png": "[encoded data removed]",
      "text/plain": [
       "<Figure size 360x360 with 1 Axes>"
      ]
     },
     "metadata": {},
     "output_type": "display_data"
    },
    {
     "data": {
      "image/png": "[encoded data removed]",
      "text/plain": [
       "<Figure size 360x360 with 1 Axes>"
      ]
     },
     "metadata": {},
     "output_type": "display_data"
    },
    {
     "data": {
      "image/png": "[encoded data removed]",
      "text/plain": [
       "<Figure size 360x360 with 1 Axes>"
      ]
     },
     "metadata": {},
     "output_type": "display_data"
    },
    {
     "data": {
      "image/png": "[encoded data removed]",
      "text/plain": [
       "<Figure size 360x360 with 1 Axes>"
      ]
     },
     "metadata": {},
     "output_type": "display_data"
    },
    {
     "data": {
      "image/png": "[encoded data removed]",
      "text/plain": [
       "<Figure size 360x360 with 1 Axes>"
      ]
     },
     "metadata": {},
     "output_type": "display_data"
    },
    {
     "data": {
      "image/png": "[encoded data removed]",
      "text/plain": [
       "<Figure size 360x360 with 1 Axes>"
      ]
     },
     "metadata": {},
     "output_type": "display_data"
    }
   ],
   "source": [
    "for i in x_normalized.columns:\n",
    "    sb.displot(x_normalized[i])"
   ]
  },
  {
   "cell_type": "markdown",
   "id": "a66470fd",
   "metadata": {},
   "source": [
    "# Activity\n",
    "* Understand the confusion matrix. Discuss the type 1 and 2 errors. Which one are we making? Which one is worse in our scenario?\n",
    "\n",
    "Try normalize : {'true', 'pred', 'all'}, default=None. Normalizes confusion matrix over the true (rows), predicted (columns) conditions or all the population."
   ]
  },
  {
   "cell_type": "code",
   "execution_count": null,
   "id": "6b87bee8",
   "metadata": {},
   "outputs": [],
   "source": []
  }
 ],
 "metadata": {
  "kernelspec": {
   "display_name": "Python 3 (ipykernel)",
   "language": "python",
   "name": "python3"
  },
  "language_info": {
   "codemirror_mode": {
    "name": "ipython",
    "version": 3
   },
   "file_extension": ".py",
   "mimetype": "text/x-python",
   "name": "python",
   "nbconvert_exporter": "python",
   "pygments_lexer": "ipython3",
   "version": "3.8.12"
  },
  "toc": {
   "base_numbering": 1,
   "nav_menu": {},
   "number_sections": true,
   "sideBar": true,
   "skip_h1_title": false,
   "title_cell": "Table of Contents",
   "title_sidebar": "Contents",
   "toc_cell": false,
   "toc_position": {},
   "toc_section_display": true,
   "toc_window_display": false
  }
 },
 "nbformat": 4,
 "nbformat_minor": 5
}
